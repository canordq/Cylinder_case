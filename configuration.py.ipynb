{
 "cells": [
  {
   "cell_type": "markdown",
   "id": "a8780d40",
   "metadata": {},
   "source": [
    "# Configuration\n",
    "configuration.py"
   ]
  },
  {
   "cell_type": "code",
   "execution_count": null,
   "id": "36086a88",
   "metadata": {},
   "outputs": [],
   "source": [
    "#!/bin/env python\n",
    "#\n",
    "# DEEP REINFORCEMENT LEARNING WITH ALYA\n",
    "#\n",
    "# Path to the binaries used for the DRL tool\n",
    "#\n",
    "# Pol Suarez, Arnau Miro, Xavi Garcia\n",
    "# 01/02/2023\n",
    "from _future_ import print_function, division\n",
    "\n",
    "import os"
   ]
  },
  {
   "cell_type": "markdown",
   "id": "05bea29d",
   "metadata": {},
   "source": [
    "### Paths\n",
    "Links to binary files, executables from Alya (functions in separate folder DRL_control_recirculation_bubble_2021-devel-V7/alya_files/bin)"
   ]
  },
  {
   "cell_type": "code",
   "execution_count": null,
   "id": "77ae9277",
   "metadata": {},
   "outputs": [],
   "source": [
    "## PATHS\n",
    "DRL_PATH  = os.path.join(os.path.dirname(os.path.abspath(_file_))) # Absolute path to the DRL directory\n",
    "ALYA_PATH = os.path.join(DRL_PATH,'alya_files')                      # Absolute path to the alya_files folder\n",
    "BIN_PATH  = os.path.join(DRL_PATH,'alya_files','bin')                # Absolute path to the binaries folder\n",
    "\n",
    "\n",
    "## FILE NAMES\n",
    "NODELIST   = 'nodelist'\n",
    "\n",
    "\n",
    "## BINARIES\n",
    "ALYA_BIN   = os.path.join(BIN_PATH,'alya_3D_longfunc.x')\n",
    "ALYA_SETS  = os.path.join(BIN_PATH,'alya-sets')\n",
    "ALYA_CLEAN = os.path.join(BIN_PATH,'alya-clean')\n",
    "ALYA_ULTCL = os.path.join(BIN_PATH,'ultra_cleaner.sh')\n",
    "ALYA_GMSH  = os.path.join(BIN_PATH,'pyalya_gmsh2alya')\n",
    "ALYA_PERIO = os.path.join(BIN_PATH,'pyalya_periodic')\n",
    "ALYA_INCON = os.path.join(BIN_PATH,'pyalya_initialcondition')\n",
    "\n",
    "\n",
    "## OPTIONS\n",
    "# to use dardel ---> true\n",
    "USE_SLURM = True\n",
    "\n",
    "\n",
    "# Oversubscribe over MPI, must be set to False always\n",
    "# unless debugging on the local machine and needed by\n",
    "# the system\n",
    "OVERSUBSCRIBE = True\n",
    "\n",
    "\n",
    "# Activate the debug mode, which means you get prints of every action \n",
    "# and every action saves a log, that you can find in (enviroment1-->EP_1-->logs)\n",
    "\n",
    "#It is recommended to use the debug mode with 1 enviroment and 1 proc, \n",
    "#in order not to mix prints from different enviroments\n",
    "DEBUG = False"
   ]
  }
 ],
 "metadata": {
  "kernelspec": {
   "display_name": "Python 3 (ipykernel)",
   "language": "python",
   "name": "python3"
  },
  "language_info": {
   "codemirror_mode": {
    "name": "ipython",
    "version": 3
   },
   "file_extension": ".py",
   "mimetype": "text/x-python",
   "name": "python",
   "nbconvert_exporter": "python",
   "pygments_lexer": "ipython3",
   "version": "3.10.9"
  }
 },
 "nbformat": 4,
 "nbformat_minor": 5
}
